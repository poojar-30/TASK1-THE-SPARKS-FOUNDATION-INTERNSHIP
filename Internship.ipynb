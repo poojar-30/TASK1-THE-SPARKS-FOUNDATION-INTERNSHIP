{
  "nbformat": 4,
  "nbformat_minor": 0,
  "metadata": {
    "colab": {
      "name": "Internship",
      "provenance": [],
      "collapsed_sections": [],
      "authorship_tag": "ABX9TyPNdUUOcOfco+rFYHiuCiCj",
      "include_colab_link": true
    },
    "kernelspec": {
      "name": "python3",
      "display_name": "Python 3"
    },
    "language_info": {
      "name": "python"
    }
  },
  "cells": [
    {
      "cell_type": "markdown",
      "metadata": {
        "id": "view-in-github",
        "colab_type": "text"
      },
      "source": [
        "<a href=\"https://colab.research.google.com/github/poojar-30/TASK1-THE-SPARKS-FOUNDATION-INTERNSHIP/blob/main/Internship.ipynb\" target=\"_parent\"><img src=\"https://colab.research.google.com/assets/colab-badge.svg\" alt=\"Open In Colab\"/></a>"
      ]
    },
    {
      "cell_type": "markdown",
      "metadata": {
        "id": "JZ1MyA26yJ2s"
      },
      "source": [
        "# THE SPARKS FOUNDATION\n"
      ]
    },
    {
      "cell_type": "markdown",
      "metadata": {
        "id": "jiKEppSDyLPn"
      },
      "source": [
        "## DATA SCIENCE AND BUISNESS ANALYTICS INTERNSHIP "
      ]
    },
    {
      "cell_type": "markdown",
      "metadata": {
        "id": "WGi8GKr3yLbo"
      },
      "source": [
        "### Prediction using Supervised ML\n",
        "> ### -BY POOJA R"
      ]
    },
    {
      "cell_type": "markdown",
      "metadata": {
        "id": "DEe3HrCSyoEF"
      },
      "source": [
        "> QUESTION: What will be predicted score if a student studies for 9.25 hrs/ day?"
      ]
    },
    {
      "cell_type": "markdown",
      "metadata": {
        "id": "XNoIn66KLG57"
      },
      "source": [
        "#### Importing libraries"
      ]
    },
    {
      "cell_type": "code",
      "metadata": {
        "id": "JfUJEDe4LUKV"
      },
      "source": [
        "import pandas as pd               #for data analysis\n",
        "import missingno as msn           #for visualising missing number of data\n",
        "import matplotlib.pyplot as plt   #for data visualisation\n",
        "import seaborn as sns             #for data visualisation\n",
        "import numpy as np                #general-purpose array-processing package.\n",
        "from sklearn import linear_model  #Linear regression model\n",
        "from sklearn.model_selection import train_test_split #train and split data"
      ],
      "execution_count": 33,
      "outputs": []
    },
    {
      "cell_type": "markdown",
      "metadata": {
        "id": "4pt0OqZmL0zV"
      },
      "source": [
        "### READ THE DATA!"
      ]
    },
    {
      "cell_type": "code",
      "metadata": {
        "colab": {
          "base_uri": "https://localhost:8080/",
          "height": 204
        },
        "id": "xyvw0R8zLa4L",
        "outputId": "18e7eff0-0218-40c7-fffc-990da5f2592d"
      },
      "source": [
        "\n",
        "df=pd.read_csv(\"https://raw.githubusercontent.com/AdiPersonalWorks/Random/master/student_scores%20-%20student_scores.csv\")\n",
        "df.head()"
      ],
      "execution_count": 34,
      "outputs": [
        {
          "output_type": "execute_result",
          "data": {
            "text/html": [
              "<div>\n",
              "<style scoped>\n",
              "    .dataframe tbody tr th:only-of-type {\n",
              "        vertical-align: middle;\n",
              "    }\n",
              "\n",
              "    .dataframe tbody tr th {\n",
              "        vertical-align: top;\n",
              "    }\n",
              "\n",
              "    .dataframe thead th {\n",
              "        text-align: right;\n",
              "    }\n",
              "</style>\n",
              "<table border=\"1\" class=\"dataframe\">\n",
              "  <thead>\n",
              "    <tr style=\"text-align: right;\">\n",
              "      <th></th>\n",
              "      <th>Hours</th>\n",
              "      <th>Scores</th>\n",
              "    </tr>\n",
              "  </thead>\n",
              "  <tbody>\n",
              "    <tr>\n",
              "      <th>0</th>\n",
              "      <td>2.5</td>\n",
              "      <td>21</td>\n",
              "    </tr>\n",
              "    <tr>\n",
              "      <th>1</th>\n",
              "      <td>5.1</td>\n",
              "      <td>47</td>\n",
              "    </tr>\n",
              "    <tr>\n",
              "      <th>2</th>\n",
              "      <td>3.2</td>\n",
              "      <td>27</td>\n",
              "    </tr>\n",
              "    <tr>\n",
              "      <th>3</th>\n",
              "      <td>8.5</td>\n",
              "      <td>75</td>\n",
              "    </tr>\n",
              "    <tr>\n",
              "      <th>4</th>\n",
              "      <td>3.5</td>\n",
              "      <td>30</td>\n",
              "    </tr>\n",
              "  </tbody>\n",
              "</table>\n",
              "</div>"
            ],
            "text/plain": [
              "   Hours  Scores\n",
              "0    2.5      21\n",
              "1    5.1      47\n",
              "2    3.2      27\n",
              "3    8.5      75\n",
              "4    3.5      30"
            ]
          },
          "metadata": {},
          "execution_count": 34
        }
      ]
    },
    {
      "cell_type": "markdown",
      "metadata": {
        "id": "cdJjMMqvMBbk"
      },
      "source": [
        "### CHECK FOR NULL VALUES"
      ]
    },
    {
      "cell_type": "code",
      "metadata": {
        "colab": {
          "base_uri": "https://localhost:8080/"
        },
        "id": "RIPiQk2dL3RP",
        "outputId": "fd2a0384-0f19-48a0-ece6-7001f8c5b7ec"
      },
      "source": [
        "df.isna().sum()"
      ],
      "execution_count": 35,
      "outputs": [
        {
          "output_type": "execute_result",
          "data": {
            "text/plain": [
              "Hours     0\n",
              "Scores    0\n",
              "dtype: int64"
            ]
          },
          "metadata": {},
          "execution_count": 35
        }
      ]
    },
    {
      "cell_type": "markdown",
      "metadata": {
        "id": "P_uxCrzYMMKz"
      },
      "source": [
        "##### visualising null values\n",
        "\n"
      ]
    },
    {
      "cell_type": "code",
      "metadata": {
        "colab": {
          "base_uri": "https://localhost:8080/",
          "height": 396
        },
        "id": "QKlLBlooLkFp",
        "outputId": "62eefe1b-06c2-4107-b793-4e769931ef7d"
      },
      "source": [
        "msn.bar(df,figsize=(5,5), fontsize=12, color=\"lightgreen\")"
      ],
      "execution_count": 36,
      "outputs": [
        {
          "output_type": "execute_result",
          "data": {
            "text/plain": [
              "<matplotlib.axes._subplots.AxesSubplot at 0x7fc14616dc90>"
            ]
          },
          "metadata": {},
          "execution_count": 36
        },
        {
          "output_type": "display_data",
          "data": {
            "image/png": "[encoded data removed]",
            "text/plain": [
              "<Figure size 360x360 with 3 Axes>"
            ]
          },
          "metadata": {}
        }
      ]
    },
    {
      "cell_type": "markdown",
      "metadata": {
        "id": "2r5y4zV2NC6C"
      },
      "source": [
        "### LETS VISUALIZE"
      ]
    },
    {
      "cell_type": "markdown",
      "metadata": {
        "id": "XyVDYkT8PPbF"
      },
      "source": [
        "> COUNTPLOT"
      ]
    },
    {
      "cell_type": "code",
      "metadata": {
        "colab": {
          "base_uri": "https://localhost:8080/",
          "height": 318
        },
        "id": "LCam3cfUQ0j6",
        "outputId": "85a9364a-b40f-4407-a1c0-7311737136f8"
      },
      "source": [
        "plt.figure(figsize=(10,4))\n",
        "\n",
        "plt.subplot(1, 2, 1)\n",
        "plt.title(\"Count plot of study hours FIGURE 1\")\n",
        "sns.set_theme(style=\"darkgrid\")\n",
        "sns.histplot(df[\"Hours\"],color=\"lightgreen\")\n",
        "\n",
        "plt.subplot(1, 2, 2)\n",
        "plt.title(\"Count plot of Scores FIGURE 2\")\n",
        "sns.set_theme(style=\"darkgrid\")\n",
        "sns.histplot(df[\"Scores\"],color=\"green\")"
      ],
      "execution_count": 37,
      "outputs": [
        {
          "output_type": "execute_result",
          "data": {
            "text/plain": [
              "<matplotlib.axes._subplots.AxesSubplot at 0x7fc14b604b10>"
            ]
          },
          "metadata": {},
          "execution_count": 37
        },
        {
          "output_type": "display_data",
          "data": {
            "image/png": "[encoded data removed]",
            "text/plain": [
              "<Figure size 720x288 with 2 Axes>"
            ]
          },
          "metadata": {}
        }
      ]
    },
    {
      "cell_type": "markdown",
      "metadata": {
        "id": "0thkWk-nNNoQ"
      },
      "source": [
        "According to figure 1, most  of the student studied 3-4hrs.\n",
        "\n"
      ]
    },
    {
      "cell_type": "markdown",
      "metadata": {
        "id": "xlEYrDV1OKhp"
      },
      "source": [
        "According to figure 2, few students got highest score."
      ]
    },
    {
      "cell_type": "markdown",
      "metadata": {
        "id": "kWhk_JcxPGco"
      },
      "source": [
        "> LETS CHECK ITS CORRELATION"
      ]
    },
    {
      "cell_type": "code",
      "metadata": {
        "colab": {
          "base_uri": "https://localhost:8080/",
          "height": 372
        },
        "id": "7iIJfjS7N__8",
        "outputId": "ac99de55-48d8-41ff-e357-c04244cfe28b"
      },
      "source": [
        "plt.title(\"Hours vs Scores\")\n",
        "\n",
        "sns.set_theme(style=\"darkgrid\")\n",
        "sns.scatterplot(df[\"Hours\"],df[\"Scores\"],color=\"green\")"
      ],
      "execution_count": 38,
      "outputs": [
        {
          "output_type": "stream",
          "text": [
            "/usr/local/lib/python3.7/dist-packages/seaborn/_decorators.py:43: FutureWarning: Pass the following variables as keyword args: x, y. From version 0.12, the only valid positional argument will be `data`, and passing other arguments without an explicit keyword will result in an error or misinterpretation.\n",
            "  FutureWarning\n"
          ],
          "name": "stderr"
        },
        {
          "output_type": "execute_result",
          "data": {
            "text/plain": [
              "<matplotlib.axes._subplots.AxesSubplot at 0x7fc145f49910>"
            ]
          },
          "metadata": {},
          "execution_count": 38
        },
        {
          "output_type": "display_data",
          "data": {
            "image/png": "[encoded data removed]",
            "text/plain": [
              "<Figure size 432x288 with 1 Axes>"
            ]
          },
          "metadata": {}
        }
      ]
    },
    {
      "cell_type": "markdown",
      "metadata": {
        "id": "5sgshH1RPb0T"
      },
      "source": [
        "Its is correlated, infact it has positive correlation"
      ]
    },
    {
      "cell_type": "code",
      "metadata": {
        "id": "UngXHRysO5FZ",
        "colab": {
          "base_uri": "https://localhost:8080/"
        },
        "outputId": "c3e827fb-2704-4395-fda3-b5be855af334"
      },
      "source": [
        "correlation = np.corrcoef(df['Hours'],df['Scores'])\n",
        "correlation"
      ],
      "execution_count": 39,
      "outputs": [
        {
          "output_type": "execute_result",
          "data": {
            "text/plain": [
              "array([[1.        , 0.97619066],\n",
              "       [0.97619066, 1.        ]])"
            ]
          },
          "metadata": {},
          "execution_count": 39
        }
      ]
    },
    {
      "cell_type": "markdown",
      "metadata": {
        "id": "2ftt3WHeVjmi"
      },
      "source": [
        "corrcoef :- gives the correlation matrix \n"
      ]
    },
    {
      "cell_type": "markdown",
      "metadata": {
        "id": "8K7fXL6RVwy1"
      },
      "source": [
        "*HIGHLY CORRELATED*"
      ]
    },
    {
      "cell_type": "code",
      "metadata": {
        "id": "Uck4dTNIXlAG"
      },
      "source": [
        "x = df.iloc[:,:-1].values  #independent variable array\n",
        "y = df.iloc[:,1].values  #dependent variable vector\n"
      ],
      "execution_count": 40,
      "outputs": []
    },
    {
      "cell_type": "code",
      "metadata": {
        "id": "7hTU0ovtQJlS"
      },
      "source": [
        "x_train,x_test, y_train, y_test = train_test_split(x,y,test_size=1/3,random_state=0)"
      ],
      "execution_count": 41,
      "outputs": []
    },
    {
      "cell_type": "code",
      "metadata": {
        "colab": {
          "base_uri": "https://localhost:8080/"
        },
        "id": "K4IldHqjXN5p",
        "outputId": "5842fc9e-cb5c-4460-a2e8-e5c4cd205c9e"
      },
      "source": [
        "# REGRESSION\n",
        "reg=linear_model.LinearRegression()\n",
        "reg.fit(x_train,y_train)"
      ],
      "execution_count": 42,
      "outputs": [
        {
          "output_type": "execute_result",
          "data": {
            "text/plain": [
              "LinearRegression(copy_X=True, fit_intercept=True, n_jobs=None, normalize=False)"
            ]
          },
          "metadata": {},
          "execution_count": 42
        }
      ]
    },
    {
      "cell_type": "code",
      "metadata": {
        "colab": {
          "base_uri": "https://localhost:8080/",
          "height": 301
        },
        "id": "sZC_jgjBXYrO",
        "outputId": "fb4b8390-3b97-42e9-819a-087cedf20463"
      },
      "source": [
        "plt.scatter(x_train, y_train, color='black')\n",
        "plt.plot(x_train, reg.predict(x_train), color='blue')\n",
        " \n",
        "plt.title(\"Hours vs Scores(Training set)\") # stating the title of the graph\n",
        " \n",
        "plt.xlabel(\"Hours\") # adding the name of x-axis\n",
        "plt.ylabel(\"Scores\") # adding the name of y-axis\n",
        "plt.show()"
      ],
      "execution_count": 43,
      "outputs": [
        {
          "output_type": "display_data",
          "data": {
            "image/png": "[encoded data removed]",
            "text/plain": [
              "<Figure size 432x288 with 1 Axes>"
            ]
          },
          "metadata": {}
        }
      ]
    },
    {
      "cell_type": "code",
      "metadata": {
        "colab": {
          "base_uri": "https://localhost:8080/"
        },
        "id": "Xjx6-TS6YOc6",
        "outputId": "167198d2-c8a0-4d00-a4c0-611b00e88b5e"
      },
      "source": [
        "reg.coef_   # this is slope"
      ],
      "execution_count": 44,
      "outputs": [
        {
          "output_type": "execute_result",
          "data": {
            "text/plain": [
              "array([9.69062469])"
            ]
          },
          "metadata": {},
          "execution_count": 44
        }
      ]
    },
    {
      "cell_type": "code",
      "metadata": {
        "colab": {
          "base_uri": "https://localhost:8080/"
        },
        "id": "C_uy14hcbhXZ",
        "outputId": "623a2730-f158-44c2-ad31-9c87fcfc4c96"
      },
      "source": [
        "reg.intercept_  #this is intercept/constant"
      ],
      "execution_count": 45,
      "outputs": [
        {
          "output_type": "execute_result",
          "data": {
            "text/plain": [
              "2.5069547569547197"
            ]
          },
          "metadata": {},
          "execution_count": 45
        }
      ]
    },
    {
      "cell_type": "code",
      "metadata": {
        "id": "LDnevzGzbjTd"
      },
      "source": [
        "y=reg.predict(x_test)\n"
      ],
      "execution_count": 46,
      "outputs": []
    },
    {
      "cell_type": "code",
      "metadata": {
        "id": "_yPSo2fubpJp",
        "colab": {
          "base_uri": "https://localhost:8080/",
          "height": 328
        },
        "outputId": "173e2b7a-c9a8-4351-f88a-399d7163806c"
      },
      "source": [
        "data=pd.DataFrame({'Actual Values':y_test,'Predicted values':y})\n",
        "data"
      ],
      "execution_count": 47,
      "outputs": [
        {
          "output_type": "execute_result",
          "data": {
            "text/html": [
              "<div>\n",
              "<style scoped>\n",
              "    .dataframe tbody tr th:only-of-type {\n",
              "        vertical-align: middle;\n",
              "    }\n",
              "\n",
              "    .dataframe tbody tr th {\n",
              "        vertical-align: top;\n",
              "    }\n",
              "\n",
              "    .dataframe thead th {\n",
              "        text-align: right;\n",
              "    }\n",
              "</style>\n",
              "<table border=\"1\" class=\"dataframe\">\n",
              "  <thead>\n",
              "    <tr style=\"text-align: right;\">\n",
              "      <th></th>\n",
              "      <th>Actual Values</th>\n",
              "      <th>Predicted values</th>\n",
              "    </tr>\n",
              "  </thead>\n",
              "  <tbody>\n",
              "    <tr>\n",
              "      <th>0</th>\n",
              "      <td>20</td>\n",
              "      <td>17.042892</td>\n",
              "    </tr>\n",
              "    <tr>\n",
              "      <th>1</th>\n",
              "      <td>27</td>\n",
              "      <td>33.516954</td>\n",
              "    </tr>\n",
              "    <tr>\n",
              "      <th>2</th>\n",
              "      <td>69</td>\n",
              "      <td>74.217577</td>\n",
              "    </tr>\n",
              "    <tr>\n",
              "      <th>3</th>\n",
              "      <td>30</td>\n",
              "      <td>26.733516</td>\n",
              "    </tr>\n",
              "    <tr>\n",
              "      <th>4</th>\n",
              "      <td>62</td>\n",
              "      <td>59.681640</td>\n",
              "    </tr>\n",
              "    <tr>\n",
              "      <th>5</th>\n",
              "      <td>35</td>\n",
              "      <td>39.331329</td>\n",
              "    </tr>\n",
              "    <tr>\n",
              "      <th>6</th>\n",
              "      <td>24</td>\n",
              "      <td>20.919142</td>\n",
              "    </tr>\n",
              "    <tr>\n",
              "      <th>7</th>\n",
              "      <td>86</td>\n",
              "      <td>78.093827</td>\n",
              "    </tr>\n",
              "    <tr>\n",
              "      <th>8</th>\n",
              "      <td>76</td>\n",
              "      <td>69.372265</td>\n",
              "    </tr>\n",
              "  </tbody>\n",
              "</table>\n",
              "</div>"
            ],
            "text/plain": [
              "   Actual Values  Predicted values\n",
              "0             20         17.042892\n",
              "1             27         33.516954\n",
              "2             69         74.217577\n",
              "3             30         26.733516\n",
              "4             62         59.681640\n",
              "5             35         39.331329\n",
              "6             24         20.919142\n",
              "7             86         78.093827\n",
              "8             76         69.372265"
            ]
          },
          "metadata": {},
          "execution_count": 47
        }
      ]
    },
    {
      "cell_type": "code",
      "metadata": {
        "colab": {
          "base_uri": "https://localhost:8080/",
          "height": 318
        },
        "id": "d8n08xVrzm-i",
        "outputId": "73554f48-70ce-486c-d964-0970d5b85d64"
      },
      "source": [
        "data.plot()\n",
        " \n",
        "plt.title(\"Hours vs Scores(Training set)\") # stating the title of the graph\n",
        " \n",
        "plt.xlabel(\"Hours\") # adding the name of x-axis\n",
        "plt.ylabel(\"Scores\") # adding the name of y-axis"
      ],
      "execution_count": 48,
      "outputs": [
        {
          "output_type": "execute_result",
          "data": {
            "text/plain": [
              "Text(0, 0.5, 'Scores')"
            ]
          },
          "metadata": {},
          "execution_count": 48
        },
        {
          "output_type": "display_data",
          "data": {
            "image/png": "[encoded data removed]",
            "text/plain": [
              "<Figure size 432x288 with 1 Axes>"
            ]
          },
          "metadata": {}
        }
      ]
    },
    {
      "cell_type": "code",
      "metadata": {
        "colab": {
          "base_uri": "https://localhost:8080/"
        },
        "id": "VglZswr40bq3",
        "outputId": "79ec9cfc-5077-4377-b472-21a6b4cd7a4a"
      },
      "source": [
        "Q=[[9.25]]\n",
        "ANSWER=reg.predict(Q)\n",
        "ANSWER"
      ],
      "execution_count": 49,
      "outputs": [
        {
          "output_type": "execute_result",
          "data": {
            "text/plain": [
              "array([92.14523315])"
            ]
          },
          "metadata": {},
          "execution_count": 49
        }
      ]
    },
    {
      "cell_type": "code",
      "metadata": {
        "id": "WbDYZUeZ02Cf"
      },
      "source": [
        ""
      ],
      "execution_count": 49,
      "outputs": []
    }
  ]
}